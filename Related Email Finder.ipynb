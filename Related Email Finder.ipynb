{
 "cells": [
  {
   "cell_type": "code",
   "execution_count": 1,
   "id": "49d337e8",
   "metadata": {},
   "outputs": [],
   "source": [
    "import pandas as pd\n",
    "import requests\n",
    "import matplotlib.pyplot as plt\n",
    "plt.rcParams[\"figure.figsize\"] = (20,8)\n",
    "import numpy as np\n",
    "from datetime import datetime\n",
    "from textblob import TextBlob"
   ]
  },
  {
   "cell_type": "code",
   "execution_count": 4,
   "id": "5bb58d05",
   "metadata": {},
   "outputs": [],
   "source": [
    "from sklearn.feature_extraction.text import TfidfVectorizer, ENGLISH_STOP_WORDS\n",
    "from sklearn.metrics.pairwise import linear_kernel\n",
    "\n",
    "\n",
    "import pandas as pd\n",
    "\n"
   ]
  },
  {
   "cell_type": "code",
   "execution_count": 49,
   "id": "9276037b",
   "metadata": {},
   "outputs": [],
   "source": [
    "all_emails =  pd.read_csv('enron_email/emails.csv')"
   ]
  },
  {
   "cell_type": "markdown",
   "id": "177494bb",
   "metadata": {},
   "source": [
    "## Helper Module"
   ]
  },
  {
   "cell_type": "code",
   "execution_count": 8,
   "id": "67f211a5",
   "metadata": {},
   "outputs": [],
   "source": [
    "def parse_into_emails(messages):\n",
    "    emails = [parse_raw_message(message) for message in messages]\n",
    "    bodies = []\n",
    "    tos = []\n",
    "    froms = []\n",
    "    subjects = []\n",
    "    dates = []\n",
    "    xfroms = []\n",
    "    xtos = []\n",
    "    for email in emails:\n",
    "        froms.append(email['from'])\n",
    "        tos.append(email.get('to', None))\n",
    "        bodies.append(email['body'])\n",
    "        subjects.append(email.get('subject', None))\n",
    "        dates.append(email.get('date', None))\n",
    "        xfroms.append(email.get('x-from', None))\n",
    "        xtos.append(email.get('x-to', None))\n",
    "    return {\n",
    "        'body': bodies, \n",
    "        'to': tos, \n",
    "        'from_': froms,\n",
    "        'subject': subjects,\n",
    "        'date': dates,\n",
    "        'xfroms': xfroms,\n",
    "        'xtos': xtos\n",
    "    }\n",
    "\n",
    "def parse_raw_message(raw_message):\n",
    "    lines = raw_message.split('\\n')\n",
    "    email = {}\n",
    "    message = ''\n",
    "    keys_to_extract = ['from', 'to', 'subject', 'date', 'x-from', 'x-to']\n",
    "    for line in lines:\n",
    "        if ':' not in line:\n",
    "            message += line.strip()\n",
    "            email['body'] = message\n",
    "        else:\n",
    "            pairs = line.split(':')\n",
    "            key = pairs[0].lower()\n",
    "            val = pairs[1].strip()\n",
    "            val = val.replace('.', '. ')\n",
    "            if key in keys_to_extract:\n",
    "                email[key] = val\n",
    "    return email"
   ]
  },
  {
   "cell_type": "code",
   "execution_count": 52,
   "id": "d4b5562a",
   "metadata": {},
   "outputs": [],
   "source": [
    "all_email_df = pd.DataFrame(parse_into_emails(all_emails.message))"
   ]
  },
  {
   "cell_type": "markdown",
   "id": "775051eb",
   "metadata": {},
   "source": [
    "#### Email Searching Class"
   ]
  },
  {
   "cell_type": "code",
   "execution_count": 10,
   "id": "646955f0",
   "metadata": {},
   "outputs": [],
   "source": [
    "def read_email_bodies():\n",
    "    emails = pd.read_csv('enron_email/emails.csv')\n",
    "    email_df = pd.DataFrame(parse_into_emails(emails.message))\n",
    "    email_df.drop(email_df.query(\"body == '' | to == '' | from_ == ''\").index, inplace=True)\n",
    "    email_df.drop_duplicates(inplace=True)\n",
    "    return email_df['body']\n",
    "\n",
    "\n",
    "class EmailDataset(): \n",
    "    def __init__(self):\n",
    "        stopwords = ENGLISH_STOP_WORDS.union(['ect', 'hou', 'com', 'recipient'])\n",
    "        self.vec = TfidfVectorizer(analyzer='word', stop_words=stopwords, max_df=0.3, min_df=2)\n",
    "        self.emails = read_email_bodies() \n",
    "\n",
    "    # train on the given email data.\n",
    "\n",
    "    def train(self):\n",
    "        self.vec_train = self.vec.fit_transform(self.emails)\n",
    "\n",
    "    def query(self, keyword, limit):\n",
    "        vec_keyword = self.vec.transform([keyword])\n",
    "        cosine_sim = linear_kernel(vec_keyword, self.vec_train).flatten()\n",
    "        related_email_indices = cosine_sim.argsort()[:-limit:-1]\n",
    "        return related_email_indices\n",
    "\n",
    "    def find_email_by_index(self, i):\n",
    "        return self.emails.to_numpy()[i]"
   ]
  },
  {
   "cell_type": "code",
   "execution_count": 12,
   "id": "60615512",
   "metadata": {},
   "outputs": [
    {
     "name": "stdout",
     "output_type": "stream",
     "text": [
      "AccomplishmentsCurrent Project List\n"
     ]
    }
   ],
   "source": [
    "ds = EmailDataset()\n",
    "ds.train()\n",
    "results = ds.query('project', 100)\n",
    "# print out the first result.\n",
    "print(ds.find_email_by_index(results[0]))"
   ]
  },
  {
   "cell_type": "code",
   "execution_count": 26,
   "id": "99d67d9a",
   "metadata": {},
   "outputs": [
    {
     "data": {
      "text/plain": [
       "array([115537, 232339,  97460, 126459, 228801, 199663, 232337, 179097,\n",
       "        88453, 154064, 232314, 231748,  24438,  85575, 173571,  60833,\n",
       "       121123, 210469,  55318, 179134, 205039, 204302, 136878, 153831,\n",
       "        77981, 205582,  80318, 173360,  81856,  27748,  27882, 118019,\n",
       "        27883,  27962,  27972,  27639,  27640,  51050, 237645, 237652,\n",
       "       137158,  36343, 227886,  12347, 121121, 144578, 121787,  37380,\n",
       "       120990, 222740, 108094, 192235,  21390, 152600, 121987, 149515,\n",
       "       183118, 130727, 202223, 238882, 208255,   1470,  87794, 153741,\n",
       "        28372,  81047,  48628, 232341, 144264,  12931, 225417, 101055,\n",
       "       179824, 165904, 237249, 225519,  88849,  60852, 153740, 109645,\n",
       "        93702, 238193, 237755, 189763,  89373, 208238,  87668,  81854,\n",
       "       109327,  77417,  76367, 165560,   4036,  81859, 220940, 179041,\n",
       "       152504, 238161, 220937])"
      ]
     },
     "execution_count": 26,
     "metadata": {},
     "output_type": "execute_result"
    }
   ],
   "source": [
    "results"
   ]
  },
  {
   "cell_type": "code",
   "execution_count": 33,
   "id": "dc4224f8",
   "metadata": {},
   "outputs": [
    {
     "ename": "KeyError",
     "evalue": "\"None of [Index(['115537'], dtype='object')] are in the [index]\"",
     "output_type": "error",
     "traceback": [
      "\u001b[0;31m---------------------------------------------------------------------------\u001b[0m",
      "\u001b[0;31mKeyError\u001b[0m                                  Traceback (most recent call last)",
      "\u001b[0;32m<ipython-input-33-c9c362cc2842>\u001b[0m in \u001b[0;36m<module>\u001b[0;34m\u001b[0m\n\u001b[0;32m----> 1\u001b[0;31m \u001b[0mds\u001b[0m\u001b[0;34m.\u001b[0m\u001b[0memails\u001b[0m\u001b[0;34m[\u001b[0m\u001b[0;34m[\u001b[0m\u001b[0;34m'115537'\u001b[0m\u001b[0;34m]\u001b[0m\u001b[0;34m]\u001b[0m\u001b[0;34m.\u001b[0m\u001b[0mtolist\u001b[0m\u001b[0;34m(\u001b[0m\u001b[0;34m)\u001b[0m\u001b[0;34m\u001b[0m\u001b[0;34m\u001b[0m\u001b[0m\n\u001b[0m",
      "\u001b[0;32m~/Workspace/miniconda3/lib/python3.8/site-packages/pandas/core/series.py\u001b[0m in \u001b[0;36m__getitem__\u001b[0;34m(self, key)\u001b[0m\n\u001b[1;32m    875\u001b[0m             \u001b[0;32mreturn\u001b[0m \u001b[0mself\u001b[0m\u001b[0;34m.\u001b[0m\u001b[0m_get_values\u001b[0m\u001b[0;34m(\u001b[0m\u001b[0mkey\u001b[0m\u001b[0;34m)\u001b[0m\u001b[0;34m\u001b[0m\u001b[0;34m\u001b[0m\u001b[0m\n\u001b[1;32m    876\u001b[0m \u001b[0;34m\u001b[0m\u001b[0m\n\u001b[0;32m--> 877\u001b[0;31m         \u001b[0;32mreturn\u001b[0m \u001b[0mself\u001b[0m\u001b[0;34m.\u001b[0m\u001b[0m_get_with\u001b[0m\u001b[0;34m(\u001b[0m\u001b[0mkey\u001b[0m\u001b[0;34m)\u001b[0m\u001b[0;34m\u001b[0m\u001b[0;34m\u001b[0m\u001b[0m\n\u001b[0m\u001b[1;32m    878\u001b[0m \u001b[0;34m\u001b[0m\u001b[0m\n\u001b[1;32m    879\u001b[0m     \u001b[0;32mdef\u001b[0m \u001b[0m_get_with\u001b[0m\u001b[0;34m(\u001b[0m\u001b[0mself\u001b[0m\u001b[0;34m,\u001b[0m \u001b[0mkey\u001b[0m\u001b[0;34m)\u001b[0m\u001b[0;34m:\u001b[0m\u001b[0;34m\u001b[0m\u001b[0;34m\u001b[0m\u001b[0m\n",
      "\u001b[0;32m~/Workspace/miniconda3/lib/python3.8/site-packages/pandas/core/series.py\u001b[0m in \u001b[0;36m_get_with\u001b[0;34m(self, key)\u001b[0m\n\u001b[1;32m    915\u001b[0m \u001b[0;34m\u001b[0m\u001b[0m\n\u001b[1;32m    916\u001b[0m         \u001b[0;31m# handle the dup indexing case GH#4246\u001b[0m\u001b[0;34m\u001b[0m\u001b[0;34m\u001b[0m\u001b[0;34m\u001b[0m\u001b[0m\n\u001b[0;32m--> 917\u001b[0;31m         \u001b[0;32mreturn\u001b[0m \u001b[0mself\u001b[0m\u001b[0;34m.\u001b[0m\u001b[0mloc\u001b[0m\u001b[0;34m[\u001b[0m\u001b[0mkey\u001b[0m\u001b[0;34m]\u001b[0m\u001b[0;34m\u001b[0m\u001b[0;34m\u001b[0m\u001b[0m\n\u001b[0m\u001b[1;32m    918\u001b[0m \u001b[0;34m\u001b[0m\u001b[0m\n\u001b[1;32m    919\u001b[0m     \u001b[0;32mdef\u001b[0m \u001b[0m_get_values_tuple\u001b[0m\u001b[0;34m(\u001b[0m\u001b[0mself\u001b[0m\u001b[0;34m,\u001b[0m \u001b[0mkey\u001b[0m\u001b[0;34m)\u001b[0m\u001b[0;34m:\u001b[0m\u001b[0;34m\u001b[0m\u001b[0;34m\u001b[0m\u001b[0m\n",
      "\u001b[0;32m~/Workspace/miniconda3/lib/python3.8/site-packages/pandas/core/indexing.py\u001b[0m in \u001b[0;36m__getitem__\u001b[0;34m(self, key)\u001b[0m\n\u001b[1;32m    893\u001b[0m \u001b[0;34m\u001b[0m\u001b[0m\n\u001b[1;32m    894\u001b[0m             \u001b[0mmaybe_callable\u001b[0m \u001b[0;34m=\u001b[0m \u001b[0mcom\u001b[0m\u001b[0;34m.\u001b[0m\u001b[0mapply_if_callable\u001b[0m\u001b[0;34m(\u001b[0m\u001b[0mkey\u001b[0m\u001b[0;34m,\u001b[0m \u001b[0mself\u001b[0m\u001b[0;34m.\u001b[0m\u001b[0mobj\u001b[0m\u001b[0;34m)\u001b[0m\u001b[0;34m\u001b[0m\u001b[0;34m\u001b[0m\u001b[0m\n\u001b[0;32m--> 895\u001b[0;31m             \u001b[0;32mreturn\u001b[0m \u001b[0mself\u001b[0m\u001b[0;34m.\u001b[0m\u001b[0m_getitem_axis\u001b[0m\u001b[0;34m(\u001b[0m\u001b[0mmaybe_callable\u001b[0m\u001b[0;34m,\u001b[0m \u001b[0maxis\u001b[0m\u001b[0;34m=\u001b[0m\u001b[0maxis\u001b[0m\u001b[0;34m)\u001b[0m\u001b[0;34m\u001b[0m\u001b[0;34m\u001b[0m\u001b[0m\n\u001b[0m\u001b[1;32m    896\u001b[0m \u001b[0;34m\u001b[0m\u001b[0m\n\u001b[1;32m    897\u001b[0m     \u001b[0;32mdef\u001b[0m \u001b[0m_is_scalar_access\u001b[0m\u001b[0;34m(\u001b[0m\u001b[0mself\u001b[0m\u001b[0;34m,\u001b[0m \u001b[0mkey\u001b[0m\u001b[0;34m:\u001b[0m \u001b[0mTuple\u001b[0m\u001b[0;34m)\u001b[0m\u001b[0;34m:\u001b[0m\u001b[0;34m\u001b[0m\u001b[0;34m\u001b[0m\u001b[0m\n",
      "\u001b[0;32m~/Workspace/miniconda3/lib/python3.8/site-packages/pandas/core/indexing.py\u001b[0m in \u001b[0;36m_getitem_axis\u001b[0;34m(self, key, axis)\u001b[0m\n\u001b[1;32m   1111\u001b[0m                     \u001b[0;32mraise\u001b[0m \u001b[0mValueError\u001b[0m\u001b[0;34m(\u001b[0m\u001b[0;34m\"Cannot index with multidimensional key\"\u001b[0m\u001b[0;34m)\u001b[0m\u001b[0;34m\u001b[0m\u001b[0;34m\u001b[0m\u001b[0m\n\u001b[1;32m   1112\u001b[0m \u001b[0;34m\u001b[0m\u001b[0m\n\u001b[0;32m-> 1113\u001b[0;31m                 \u001b[0;32mreturn\u001b[0m \u001b[0mself\u001b[0m\u001b[0;34m.\u001b[0m\u001b[0m_getitem_iterable\u001b[0m\u001b[0;34m(\u001b[0m\u001b[0mkey\u001b[0m\u001b[0;34m,\u001b[0m \u001b[0maxis\u001b[0m\u001b[0;34m=\u001b[0m\u001b[0maxis\u001b[0m\u001b[0;34m)\u001b[0m\u001b[0;34m\u001b[0m\u001b[0;34m\u001b[0m\u001b[0m\n\u001b[0m\u001b[1;32m   1114\u001b[0m \u001b[0;34m\u001b[0m\u001b[0m\n\u001b[1;32m   1115\u001b[0m             \u001b[0;31m# nested tuple slicing\u001b[0m\u001b[0;34m\u001b[0m\u001b[0;34m\u001b[0m\u001b[0;34m\u001b[0m\u001b[0m\n",
      "\u001b[0;32m~/Workspace/miniconda3/lib/python3.8/site-packages/pandas/core/indexing.py\u001b[0m in \u001b[0;36m_getitem_iterable\u001b[0;34m(self, key, axis)\u001b[0m\n\u001b[1;32m   1051\u001b[0m \u001b[0;34m\u001b[0m\u001b[0m\n\u001b[1;32m   1052\u001b[0m         \u001b[0;31m# A collection of keys\u001b[0m\u001b[0;34m\u001b[0m\u001b[0;34m\u001b[0m\u001b[0;34m\u001b[0m\u001b[0m\n\u001b[0;32m-> 1053\u001b[0;31m         \u001b[0mkeyarr\u001b[0m\u001b[0;34m,\u001b[0m \u001b[0mindexer\u001b[0m \u001b[0;34m=\u001b[0m \u001b[0mself\u001b[0m\u001b[0;34m.\u001b[0m\u001b[0m_get_listlike_indexer\u001b[0m\u001b[0;34m(\u001b[0m\u001b[0mkey\u001b[0m\u001b[0;34m,\u001b[0m \u001b[0maxis\u001b[0m\u001b[0;34m,\u001b[0m \u001b[0mraise_missing\u001b[0m\u001b[0;34m=\u001b[0m\u001b[0;32mFalse\u001b[0m\u001b[0;34m)\u001b[0m\u001b[0;34m\u001b[0m\u001b[0;34m\u001b[0m\u001b[0m\n\u001b[0m\u001b[1;32m   1054\u001b[0m         return self.obj._reindex_with_indexers(\n\u001b[1;32m   1055\u001b[0m             \u001b[0;34m{\u001b[0m\u001b[0maxis\u001b[0m\u001b[0;34m:\u001b[0m \u001b[0;34m[\u001b[0m\u001b[0mkeyarr\u001b[0m\u001b[0;34m,\u001b[0m \u001b[0mindexer\u001b[0m\u001b[0;34m]\u001b[0m\u001b[0;34m}\u001b[0m\u001b[0;34m,\u001b[0m \u001b[0mcopy\u001b[0m\u001b[0;34m=\u001b[0m\u001b[0;32mTrue\u001b[0m\u001b[0;34m,\u001b[0m \u001b[0mallow_dups\u001b[0m\u001b[0;34m=\u001b[0m\u001b[0;32mTrue\u001b[0m\u001b[0;34m\u001b[0m\u001b[0;34m\u001b[0m\u001b[0m\n",
      "\u001b[0;32m~/Workspace/miniconda3/lib/python3.8/site-packages/pandas/core/indexing.py\u001b[0m in \u001b[0;36m_get_listlike_indexer\u001b[0;34m(self, key, axis, raise_missing)\u001b[0m\n\u001b[1;32m   1264\u001b[0m             \u001b[0mkeyarr\u001b[0m\u001b[0;34m,\u001b[0m \u001b[0mindexer\u001b[0m\u001b[0;34m,\u001b[0m \u001b[0mnew_indexer\u001b[0m \u001b[0;34m=\u001b[0m \u001b[0max\u001b[0m\u001b[0;34m.\u001b[0m\u001b[0m_reindex_non_unique\u001b[0m\u001b[0;34m(\u001b[0m\u001b[0mkeyarr\u001b[0m\u001b[0;34m)\u001b[0m\u001b[0;34m\u001b[0m\u001b[0;34m\u001b[0m\u001b[0m\n\u001b[1;32m   1265\u001b[0m \u001b[0;34m\u001b[0m\u001b[0m\n\u001b[0;32m-> 1266\u001b[0;31m         \u001b[0mself\u001b[0m\u001b[0;34m.\u001b[0m\u001b[0m_validate_read_indexer\u001b[0m\u001b[0;34m(\u001b[0m\u001b[0mkeyarr\u001b[0m\u001b[0;34m,\u001b[0m \u001b[0mindexer\u001b[0m\u001b[0;34m,\u001b[0m \u001b[0maxis\u001b[0m\u001b[0;34m,\u001b[0m \u001b[0mraise_missing\u001b[0m\u001b[0;34m=\u001b[0m\u001b[0mraise_missing\u001b[0m\u001b[0;34m)\u001b[0m\u001b[0;34m\u001b[0m\u001b[0;34m\u001b[0m\u001b[0m\n\u001b[0m\u001b[1;32m   1267\u001b[0m         \u001b[0;32mreturn\u001b[0m \u001b[0mkeyarr\u001b[0m\u001b[0;34m,\u001b[0m \u001b[0mindexer\u001b[0m\u001b[0;34m\u001b[0m\u001b[0;34m\u001b[0m\u001b[0m\n\u001b[1;32m   1268\u001b[0m \u001b[0;34m\u001b[0m\u001b[0m\n",
      "\u001b[0;32m~/Workspace/miniconda3/lib/python3.8/site-packages/pandas/core/indexing.py\u001b[0m in \u001b[0;36m_validate_read_indexer\u001b[0;34m(self, key, indexer, axis, raise_missing)\u001b[0m\n\u001b[1;32m   1306\u001b[0m             \u001b[0;32mif\u001b[0m \u001b[0mmissing\u001b[0m \u001b[0;34m==\u001b[0m \u001b[0mlen\u001b[0m\u001b[0;34m(\u001b[0m\u001b[0mindexer\u001b[0m\u001b[0;34m)\u001b[0m\u001b[0;34m:\u001b[0m\u001b[0;34m\u001b[0m\u001b[0;34m\u001b[0m\u001b[0m\n\u001b[1;32m   1307\u001b[0m                 \u001b[0maxis_name\u001b[0m \u001b[0;34m=\u001b[0m \u001b[0mself\u001b[0m\u001b[0;34m.\u001b[0m\u001b[0mobj\u001b[0m\u001b[0;34m.\u001b[0m\u001b[0m_get_axis_name\u001b[0m\u001b[0;34m(\u001b[0m\u001b[0maxis\u001b[0m\u001b[0;34m)\u001b[0m\u001b[0;34m\u001b[0m\u001b[0;34m\u001b[0m\u001b[0m\n\u001b[0;32m-> 1308\u001b[0;31m                 \u001b[0;32mraise\u001b[0m \u001b[0mKeyError\u001b[0m\u001b[0;34m(\u001b[0m\u001b[0;34mf\"None of [{key}] are in the [{axis_name}]\"\u001b[0m\u001b[0;34m)\u001b[0m\u001b[0;34m\u001b[0m\u001b[0;34m\u001b[0m\u001b[0m\n\u001b[0m\u001b[1;32m   1309\u001b[0m \u001b[0;34m\u001b[0m\u001b[0m\n\u001b[1;32m   1310\u001b[0m             \u001b[0max\u001b[0m \u001b[0;34m=\u001b[0m \u001b[0mself\u001b[0m\u001b[0;34m.\u001b[0m\u001b[0mobj\u001b[0m\u001b[0;34m.\u001b[0m\u001b[0m_get_axis\u001b[0m\u001b[0;34m(\u001b[0m\u001b[0maxis\u001b[0m\u001b[0;34m)\u001b[0m\u001b[0;34m\u001b[0m\u001b[0;34m\u001b[0m\u001b[0m\n",
      "\u001b[0;31mKeyError\u001b[0m: \"None of [Index(['115537'], dtype='object')] are in the [index]\""
     ]
    }
   ],
   "source": [
    "ds.emails[['115537']].tolist()"
   ]
  },
  {
   "cell_type": "code",
   "execution_count": 50,
   "id": "a9fde234",
   "metadata": {},
   "outputs": [
    {
     "data": {
      "text/plain": [
       "'AccomplishmentsCurrent Project List'"
      ]
     },
     "execution_count": 50,
     "metadata": {},
     "output_type": "execute_result"
    }
   ],
   "source": [
    "ds.emails.to_numpy()[115537]"
   ]
  },
  {
   "cell_type": "code",
   "execution_count": 51,
   "id": "e31a6e24",
   "metadata": {},
   "outputs": [
    {
     "ename": "AttributeError",
     "evalue": "'EmailDataset' object has no attribute 'email_df'",
     "output_type": "error",
     "traceback": [
      "\u001b[0;31m---------------------------------------------------------------------------\u001b[0m",
      "\u001b[0;31mAttributeError\u001b[0m                            Traceback (most recent call last)",
      "\u001b[0;32m<ipython-input-51-c7c797ddf4fc>\u001b[0m in \u001b[0;36m<module>\u001b[0;34m\u001b[0m\n\u001b[0;32m----> 1\u001b[0;31m \u001b[0mds\u001b[0m\u001b[0;34m.\u001b[0m\u001b[0memail_df\u001b[0m\u001b[0;34m[\u001b[0m\u001b[0mds\u001b[0m\u001b[0;34m.\u001b[0m\u001b[0memail_df\u001b[0m\u001b[0;34m[\u001b[0m\u001b[0;34m'body'\u001b[0m\u001b[0;34m]\u001b[0m \u001b[0;34m==\u001b[0m \u001b[0;34m'AccomplishmentsCurrent Project List'\u001b[0m\u001b[0;34m]\u001b[0m\u001b[0;34m\u001b[0m\u001b[0;34m\u001b[0m\u001b[0m\n\u001b[0m",
      "\u001b[0;31mAttributeError\u001b[0m: 'EmailDataset' object has no attribute 'email_df'"
     ]
    }
   ],
   "source": [
    "ds.email_df[ds.email_df['body'] == 'AccomplishmentsCurrent Project List']"
   ]
  },
  {
   "cell_type": "code",
   "execution_count": 37,
   "id": "975571aa",
   "metadata": {},
   "outputs": [
    {
     "data": {
      "text/plain": [
       "'(if .....) (iii)   definitive agreements acceptable to Party A in its solediscretion regarding the debt and all other aspects of [the project to beowned by Party B], including but not limited to the senior debt facility,commitments and all project documents, have been fully negotiated andexecuted and the [project] has been brought to financial close.'"
      ]
     },
     "execution_count": 37,
     "metadata": {},
     "output_type": "execute_result"
    }
   ],
   "source": [
    "ds.emails[ds.emails[ds.emails.to_numpy()[202223]"
   ]
  },
  {
   "cell_type": "code",
   "execution_count": null,
   "id": "a4575ab8",
   "metadata": {},
   "outputs": [],
   "source": [
    "all_email_df.drop_duplicates()"
   ]
  },
  {
   "cell_type": "code",
   "execution_count": 53,
   "id": "c7616b31",
   "metadata": {},
   "outputs": [
    {
     "data": {
      "text/html": [
       "<div>\n",
       "<style scoped>\n",
       "    .dataframe tbody tr th:only-of-type {\n",
       "        vertical-align: middle;\n",
       "    }\n",
       "\n",
       "    .dataframe tbody tr th {\n",
       "        vertical-align: top;\n",
       "    }\n",
       "\n",
       "    .dataframe thead th {\n",
       "        text-align: right;\n",
       "    }\n",
       "</style>\n",
       "<table border=\"1\" class=\"dataframe\">\n",
       "  <thead>\n",
       "    <tr style=\"text-align: right;\">\n",
       "      <th></th>\n",
       "      <th>body</th>\n",
       "      <th>to</th>\n",
       "      <th>from_</th>\n",
       "      <th>subject</th>\n",
       "      <th>date</th>\n",
       "      <th>xfroms</th>\n",
       "      <th>xtos</th>\n",
       "    </tr>\n",
       "  </thead>\n",
       "  <tbody>\n",
       "    <tr>\n",
       "      <th>238472</th>\n",
       "      <td>AccomplishmentsCurrent Project List</td>\n",
       "      <td>richard. shapiro@enron. com, d. . steffes@enro...</td>\n",
       "      <td>harry. kingerski@enron. com</td>\n",
       "      <td>Accomplishments/Activities</td>\n",
       "      <td>Mon, 10 Sep 2001 11</td>\n",
       "      <td>Kingerski, Harry &lt;/O=ENRON/OU=NA/CN=RECIPIENTS...</td>\n",
       "      <td>Shapiro, Richard &lt;/O=ENRON/OU=NA/CN=RECIPIENTS...</td>\n",
       "    </tr>\n",
       "    <tr>\n",
       "      <th>440208</th>\n",
       "      <td>AccomplishmentsCurrent Project List</td>\n",
       "      <td>richard. shapiro@enron. com, d. . steffes@enro...</td>\n",
       "      <td>harry. kingerski@enron. com</td>\n",
       "      <td>Accomplishments/Activities</td>\n",
       "      <td>Mon, 10 Sep 2001 11</td>\n",
       "      <td>Kingerski, Harry &lt;/O=ENRON/OU=NA/CN=RECIPIENTS...</td>\n",
       "      <td>Shapiro, Richard &lt;/O=ENRON/OU=NA/CN=RECIPIENTS...</td>\n",
       "    </tr>\n",
       "    <tr>\n",
       "      <th>453837</th>\n",
       "      <td>AccomplishmentsCurrent Project List</td>\n",
       "      <td>richard. shapiro@enron. com, d. . steffes@enro...</td>\n",
       "      <td>harry. kingerski@enron. com</td>\n",
       "      <td>Accomplishments/Activities</td>\n",
       "      <td>Mon, 10 Sep 2001 11</td>\n",
       "      <td>Kingerski, Harry &lt;/O=ENRON/OU=NA/CN=RECIPIENTS...</td>\n",
       "      <td>Shapiro, Richard &lt;/O=ENRON/OU=NA/CN=RECIPIENTS...</td>\n",
       "    </tr>\n",
       "  </tbody>\n",
       "</table>\n",
       "</div>"
      ],
      "text/plain": [
       "                                       body  \\\n",
       "238472  AccomplishmentsCurrent Project List   \n",
       "440208  AccomplishmentsCurrent Project List   \n",
       "453837  AccomplishmentsCurrent Project List   \n",
       "\n",
       "                                                       to  \\\n",
       "238472  richard. shapiro@enron. com, d. . steffes@enro...   \n",
       "440208  richard. shapiro@enron. com, d. . steffes@enro...   \n",
       "453837  richard. shapiro@enron. com, d. . steffes@enro...   \n",
       "\n",
       "                              from_                     subject  \\\n",
       "238472  harry. kingerski@enron. com  Accomplishments/Activities   \n",
       "440208  harry. kingerski@enron. com  Accomplishments/Activities   \n",
       "453837  harry. kingerski@enron. com  Accomplishments/Activities   \n",
       "\n",
       "                       date  \\\n",
       "238472  Mon, 10 Sep 2001 11   \n",
       "440208  Mon, 10 Sep 2001 11   \n",
       "453837  Mon, 10 Sep 2001 11   \n",
       "\n",
       "                                                   xfroms  \\\n",
       "238472  Kingerski, Harry </O=ENRON/OU=NA/CN=RECIPIENTS...   \n",
       "440208  Kingerski, Harry </O=ENRON/OU=NA/CN=RECIPIENTS...   \n",
       "453837  Kingerski, Harry </O=ENRON/OU=NA/CN=RECIPIENTS...   \n",
       "\n",
       "                                                     xtos  \n",
       "238472  Shapiro, Richard </O=ENRON/OU=NA/CN=RECIPIENTS...  \n",
       "440208  Shapiro, Richard </O=ENRON/OU=NA/CN=RECIPIENTS...  \n",
       "453837  Shapiro, Richard </O=ENRON/OU=NA/CN=RECIPIENTS...  "
      ]
     },
     "execution_count": 53,
     "metadata": {},
     "output_type": "execute_result"
    }
   ],
   "source": [
    "all_email_df[all_email_df['body'] == 'AccomplishmentsCurrent Project List']"
   ]
  }
 ],
 "metadata": {
  "kernelspec": {
   "display_name": "Python 3",
   "language": "python",
   "name": "python3"
  },
  "language_info": {
   "codemirror_mode": {
    "name": "ipython",
    "version": 3
   },
   "file_extension": ".py",
   "mimetype": "text/x-python",
   "name": "python",
   "nbconvert_exporter": "python",
   "pygments_lexer": "ipython3",
   "version": "3.8.5"
  }
 },
 "nbformat": 4,
 "nbformat_minor": 5
}

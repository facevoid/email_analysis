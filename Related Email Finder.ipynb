{
 "cells": [
  {
   "cell_type": "markdown",
   "id": "ef304204",
   "metadata": {},
   "source": [
    "# This notebook is a helper for finding related emails"
   ]
  },
  {
   "cell_type": "markdown",
   "id": "380d48c3",
   "metadata": {},
   "source": [
    "#### Importing modules"
   ]
  },
  {
   "cell_type": "code",
   "execution_count": 1,
   "id": "49d337e8",
   "metadata": {},
   "outputs": [],
   "source": [
    "import pandas as pd\n",
    "import requests\n",
    "import matplotlib.pyplot as plt\n",
    "plt.rcParams[\"figure.figsize\"] = (20,8)\n",
    "import numpy as np\n",
    "from sklearn.feature_extraction.text import TfidfVectorizer, ENGLISH_STOP_WORDS\n",
    "from datetime import datetime\n",
    "from textblob import TextBlob\n",
    "from sklearn.metrics.pairwise import linear_kernel\n",
    "\n",
    "from parse_utils import parse_raw_message, parse_into_emails\n"
   ]
  },
  {
   "cell_type": "markdown",
   "id": "ad994b27",
   "metadata": {},
   "source": [
    "#### Loading And Parsing All emails"
   ]
  },
  {
   "cell_type": "code",
   "execution_count": 13,
   "id": "8b81b113",
   "metadata": {},
   "outputs": [],
   "source": [
    "all_email_df = pd.read_csv('enron_email/emails.csv')\n",
    "all_email_df = pd.DataFrame(parse_into_emails(all_email_df.message))"
   ]
  },
  {
   "cell_type": "markdown",
   "id": "775051eb",
   "metadata": {},
   "source": [
    "#### Email Searching Class"
   ]
  },
  {
   "cell_type": "code",
   "execution_count": 2,
   "id": "646955f0",
   "metadata": {},
   "outputs": [],
   "source": [
    "def read_email_bodies():\n",
    "    emails = pd.read_csv('enron_email/emails.csv') \n",
    "    email_df = pd.DataFrame(parse_into_emails(emails.message))\n",
    "    email_df.drop(email_df.query(\"body == '' | to == '' | from_ == ''\").index, inplace=True)\n",
    "    email_df.drop_duplicates('body',inplace=True)\n",
    "    return email_df['body']\n",
    "\n",
    "\n",
    "class EmailDataset(): \n",
    "    def __init__(self):\n",
    "        stopwords = ENGLISH_STOP_WORDS.union(['ect', 'hou', 'com', 'recipient'])\n",
    "        self.vec = TfidfVectorizer(analyzer='word', stop_words=stopwords, max_df=0.3, min_df=2)\n",
    "        self.emails = read_email_bodies() \n",
    "\n",
    "    # train on the given email data.\n",
    "\n",
    "    def train(self):\n",
    "        self.vec_train = self.vec.fit_transform(self.emails)\n",
    "\n",
    "    def query(self, keyword, limit):\n",
    "        vec_keyword = self.vec.transform([keyword])\n",
    "        cosine_sim = linear_kernel(vec_keyword, self.vec_train).flatten()\n",
    "        related_email_indices = cosine_sim.argsort()[:-limit:-1]\n",
    "        return related_email_indices\n",
    "\n",
    "    def find_email_by_index(self, i):\n",
    "        return self.emails.to_numpy()[i]"
   ]
  },
  {
   "cell_type": "markdown",
   "id": "6a548e7c",
   "metadata": {},
   "source": [
    "#### Searching with a keyword sample"
   ]
  },
  {
   "cell_type": "code",
   "execution_count": 3,
   "id": "60615512",
   "metadata": {},
   "outputs": [
    {
     "name": "stdout",
     "output_type": "stream",
     "text": [
      "attached is my project report .\n"
     ]
    }
   ],
   "source": [
    "ds = EmailDataset()\n",
    "ds.train()\n",
    "results = ds.query('project', 100)\n",
    "# print out the first result.\n",
    "print(ds.find_email_by_index(results[0]))"
   ]
  },
  {
   "cell_type": "code",
   "execution_count": 4,
   "id": "99d67d9a",
   "metadata": {},
   "outputs": [
    {
     "data": {
      "text/plain": [
       "array([217905, 119846,  92600, 214502, 168507, 187815,  93120, 163060,\n",
       "        57466, 217903,  93121,  22933, 146025, 116544, 217882, 114742,\n",
       "       217346, 116539, 163261,  81236,  76897, 114987, 198226,  77673,\n",
       "        83858, 168544, 129593,  11884, 193068, 192366, 145806, 193554,\n",
       "        34552, 169226,  26107, 213595, 141853,  26007, 136647, 109953,\n",
       "        48180, 114985, 104083,  82473, 190351,  83216, 223823, 115624,\n",
       "       114856,  35581,  20041, 172325,  28408,  20657, 102938,  76883,\n",
       "       168453,  73426,  84677,  72401, 123962, 136961,  52227, 145717,\n",
       "       144601,   1402,  26681, 115821,  73975, 101746,  68368, 196126,\n",
       "       168513, 217907, 168546,  46056, 222524, 156102,  23020,  96037,\n",
       "        73776,  12446,  45895, 195954, 222332, 168243,   9332, 182814,\n",
       "       104340, 181584,  77671, 145716,  84239,  76203,  77676, 147314,\n",
       "       198810,  80722, 223152])"
      ]
     },
     "execution_count": 4,
     "metadata": {},
     "output_type": "execute_result"
    }
   ],
   "source": []
  },
  {
   "cell_type": "code",
   "execution_count": 16,
   "id": "a9fde234",
   "metadata": {},
   "outputs": [],
   "source": [
    "result_body = ds.emails.to_numpy()[results[0]]"
   ]
  },
  {
   "cell_type": "code",
   "execution_count": 17,
   "id": "c7616b31",
   "metadata": {},
   "outputs": [
    {
     "data": {
      "text/html": [
       "<div>\n",
       "<style scoped>\n",
       "    .dataframe tbody tr th:only-of-type {\n",
       "        vertical-align: middle;\n",
       "    }\n",
       "\n",
       "    .dataframe tbody tr th {\n",
       "        vertical-align: top;\n",
       "    }\n",
       "\n",
       "    .dataframe thead th {\n",
       "        text-align: right;\n",
       "    }\n",
       "</style>\n",
       "<table border=\"1\" class=\"dataframe\">\n",
       "  <thead>\n",
       "    <tr style=\"text-align: right;\">\n",
       "      <th></th>\n",
       "      <th>body</th>\n",
       "      <th>to</th>\n",
       "      <th>from_</th>\n",
       "      <th>subject</th>\n",
       "      <th>date</th>\n",
       "      <th>xfroms</th>\n",
       "      <th>xtos</th>\n",
       "    </tr>\n",
       "  </thead>\n",
       "  <tbody>\n",
       "    <tr>\n",
       "      <th>486060</th>\n",
       "      <td>attached is my project report .</td>\n",
       "      <td>legal &lt;.taylor@enron.com&gt;</td>\n",
       "      <td>stephanie.panus@enron.com</td>\n",
       "      <td>Project Report</td>\n",
       "      <td>Wed, 7 Nov 2001 06</td>\n",
       "      <td>Panus, Stephanie &lt;/O=ENRON/OU=NA/CN=RECIPIENTS...</td>\n",
       "      <td>Taylor, Mark E (Legal) &lt;/O=ENRON/OU=NA/CN=RECI...</td>\n",
       "    </tr>\n",
       "  </tbody>\n",
       "</table>\n",
       "</div>"
      ],
      "text/plain": [
       "                                   body                         to  \\\n",
       "486060  attached is my project report .  legal <.taylor@enron.com>   \n",
       "\n",
       "                            from_         subject                date  \\\n",
       "486060  stephanie.panus@enron.com  Project Report  Wed, 7 Nov 2001 06   \n",
       "\n",
       "                                                   xfroms  \\\n",
       "486060  Panus, Stephanie </O=ENRON/OU=NA/CN=RECIPIENTS...   \n",
       "\n",
       "                                                     xtos  \n",
       "486060  Taylor, Mark E (Legal) </O=ENRON/OU=NA/CN=RECI...  "
      ]
     },
     "execution_count": 17,
     "metadata": {},
     "output_type": "execute_result"
    }
   ],
   "source": [
    "all_email_df[all_email_df['body'] == result_body]"
   ]
  }
 ],
 "metadata": {
  "kernelspec": {
   "display_name": "Python 3",
   "language": "python",
   "name": "python3"
  },
  "language_info": {
   "codemirror_mode": {
    "name": "ipython",
    "version": 3
   },
   "file_extension": ".py",
   "mimetype": "text/x-python",
   "name": "python",
   "nbconvert_exporter": "python",
   "pygments_lexer": "ipython3",
   "version": "3.8.5"
  }
 },
 "nbformat": 4,
 "nbformat_minor": 5
}
